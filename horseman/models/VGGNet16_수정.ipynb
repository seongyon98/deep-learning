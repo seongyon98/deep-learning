{
 "cells": [
  {
   "cell_type": "code",
   "execution_count": 2,
   "metadata": {},
   "outputs": [],
   "source": [
    "import tensorflow as tf\n",
    "from tensorflow.keras.preprocessing.image import ImageDataGenerator\n",
    "from tensorflow.keras.applications import VGG16\n",
    "from tensorflow.keras import layers, models\n",
    "import numpy as np\n",
    "import matplotlib.pyplot as plt\n",
    "import os"
   ]
  },
  {
   "cell_type": "code",
   "execution_count": 3,
   "metadata": {},
   "outputs": [],
   "source": [
    "# 랜덤 시드 설정 (항상 동일한 변형이 적용되도록)\n",
    "np.random.seed(12345)\n",
    "tf.random.set_seed(12345)"
   ]
  },
  {
   "cell_type": "code",
   "execution_count": 4,
   "metadata": {},
   "outputs": [],
   "source": [
    "# 사용자 정의 증강 함수 (이미지 5가지 중 하나를 선택하여 적용)\n",
    "def custom_augmentation(image):\n",
    "    augmentation_type = np.random.choice([\"rotation\", \"zoom\", \"shear\", \"crop\", \"horizontal_flip\"])\n",
    "    \n",
    "    if augmentation_type == \"rotation\":\n",
    "        # 회전 각도를 무작위로 선택 (45, 90, 135, ..., 315)\n",
    "        angles = [45, 90, 135, 180, 225, 270, 315]\n",
    "        angle = np.random.choice(angles)\n",
    "        image = tf.keras.preprocessing.image.random_rotation(image, angle)\n",
    "    \n",
    "    elif augmentation_type == \"zoom\":\n",
    "        # 크기 확대/축소\n",
    "        image = tf.keras.preprocessing.image.random_zoom(image, (0.8, 1.2), fill_mode='nearest')\n",
    "    \n",
    "    elif augmentation_type == \"shear\":\n",
    "        # 찌그러뜨리기\n",
    "        image = tf.keras.preprocessing.image.random_shear(image, 0.2, fill_mode='nearest')\n",
    "    \n",
    "    elif augmentation_type == \"crop\":\n",
    "        # 이미지 크롭\n",
    "        image = tf.keras.preprocessing.image.random_shift(image, 0.2, 0.2, fill_mode='nearest')\n",
    "    \n",
    "    elif augmentation_type == \"horizontal_flip\":\n",
    "        # 좌우 반전\n",
    "        image = tf.image.flip_left_right(image)\n",
    "    \n",
    "    return image"
   ]
  },
  {
   "cell_type": "code",
   "execution_count": 5,
   "metadata": {},
   "outputs": [],
   "source": [
    "# 원본 데이터를 사용한 ImageDataGenerator (변형 없이 사용)\n",
    "original_datagen = ImageDataGenerator(\n",
    "    rescale=1.0 / 255  # 정규화만 적용\n",
    ")  \n",
    "\n",
    "# 변형된 이미지를 추가하기 위한 ImageDataGenerator\n",
    "augmented_datagen = ImageDataGenerator(\n",
    "    rescale=1.0 / 255,\n",
    "    preprocessing_function=custom_augmentation,  # 사용자 정의 증강 함수 적용\n",
    ")\n",
    "\n",
    "# 검증 데이터는 따로 경로에서 불러오되, 배치 단위로 불러오고 정규화하기 위해 생성기 사용\n",
    "validation_datagen = ImageDataGenerator(rescale=1./255)"
   ]
  },
  {
   "cell_type": "code",
   "execution_count": 6,
   "metadata": {},
   "outputs": [],
   "source": [
    "# 경로에서 데이터를 불러옴\n",
    "train_data_dir = \"data/horse-or-human/train\"\n",
    "validation_data_dir = \"data/horse-or-human/validation\"\n",
    "img_size = (224, 224)"
   ]
  },
  {
   "cell_type": "code",
   "execution_count": 7,
   "metadata": {},
   "outputs": [
    {
     "name": "stdout",
     "output_type": "stream",
     "text": [
      "Found 1027 images belonging to 2 classes.\n",
      "Found 1027 images belonging to 2 classes.\n",
      "Found 256 images belonging to 2 classes.\n"
     ]
    }
   ],
   "source": [
    "# 배치 크기를 32로 설정\n",
    "batch_size = 32\n",
    "\n",
    "# 원본 이미지 생성기\n",
    "original_generator = original_datagen.flow_from_directory(\n",
    "    train_data_dir,\n",
    "    target_size=img_size,\n",
    "    batch_size=batch_size,  # 원본 데이터 배치 크기 설정\n",
    "    class_mode='binary'\n",
    ")\n",
    "\n",
    "# 변형된 이미지 생성기\n",
    "augmented_generator = augmented_datagen.flow_from_directory(\n",
    "    train_data_dir,\n",
    "    target_size=img_size,\n",
    "    batch_size=batch_size,  # 변형된 데이터 배치 크기 설정\n",
    "    class_mode='binary'\n",
    ")\n",
    "\n",
    "# 검증 데이터 생성기 (경로에서 불러오면서 정규화 및 배치 처리)\n",
    "validation_generator = validation_datagen.flow_from_directory(\n",
    "    validation_data_dir,\n",
    "    target_size=img_size,\n",
    "    batch_size=batch_size,\n",
    "    class_mode='binary'\n",
    ")"
   ]
  },
  {
   "cell_type": "code",
   "execution_count": 8,
   "metadata": {},
   "outputs": [],
   "source": [
    "# VGG16 모델을 처음부터 학습하도록 설정\n",
    "base_model = VGG16(weights=None, include_top=False, input_shape=(224, 224, 3))"
   ]
  },
  {
   "cell_type": "code",
   "execution_count": 9,
   "metadata": {},
   "outputs": [],
   "source": [
    "# 모델 구성\n",
    "model = models.Sequential()\n",
    "model.add(base_model)\n",
    "model.add(layers.Flatten())\n",
    "model.add(layers.Dense(128, activation=\"relu\"))\n",
    "model.add(layers.Dropout(0.5))\n",
    "model.add(layers.Dense(1, activation=\"sigmoid\"))\n",
    "\n",
    "# 모델 컴파일\n",
    "model.compile(optimizer=\"adam\", loss=\"binary_crossentropy\", metrics=[\"accuracy\"])"
   ]
  },
  {
   "cell_type": "code",
   "execution_count": 10,
   "metadata": {},
   "outputs": [],
   "source": [
    "# 두 개의 데이터 제너레이터를 합치는 함수 (원본 1027개 + 변형된 1027개)\n",
    "def combined_generator(original_gen, augmented_gen):\n",
    "    while True:\n",
    "        original_data = next(original_gen)\n",
    "        augmented_data = next(augmented_gen)\n",
    "        combined_data = np.concatenate([original_data[0], augmented_data[0]], axis=0)\n",
    "        combined_labels = np.concatenate([original_data[1], augmented_data[1]], axis=0)\n",
    "        yield combined_data, combined_labels"
   ]
  },
  {
   "cell_type": "code",
   "execution_count": 12,
   "metadata": {},
   "outputs": [
    {
     "name": "stdout",
     "output_type": "stream",
     "text": [
      "Epoch 1/10\n",
      "\u001b[1m33/33\u001b[0m \u001b[32m━━━━━━━━━━━━━━━━━━━━\u001b[0m\u001b[37m\u001b[0m \u001b[1m0s\u001b[0m 41s/step - accuracy: 0.4959 - loss: 0.6934 "
     ]
    },
    {
     "name": "stderr",
     "output_type": "stream",
     "text": [
      "c:\\Users\\user\\anaconda3\\Lib\\site-packages\\keras\\src\\trainers\\data_adapters\\py_dataset_adapter.py:122: UserWarning: Your `PyDataset` class should call `super().__init__(**kwargs)` in its constructor. `**kwargs` can include `workers`, `use_multiprocessing`, `max_queue_size`. Do not pass these arguments to `fit()`, as they will be ignored.\n",
      "  self._warn_if_super_not_called()\n"
     ]
    },
    {
     "name": "stdout",
     "output_type": "stream",
     "text": [
      "\u001b[1m33/33\u001b[0m \u001b[32m━━━━━━━━━━━━━━━━━━━━\u001b[0m\u001b[37m\u001b[0m \u001b[1m1380s\u001b[0m 43s/step - accuracy: 0.4958 - loss: 0.6934 - val_accuracy: 0.5000 - val_loss: 0.6931\n",
      "Epoch 2/10\n",
      "\u001b[1m33/33\u001b[0m \u001b[32m━━━━━━━━━━━━━━━━━━━━\u001b[0m\u001b[37m\u001b[0m \u001b[1m550s\u001b[0m 16s/step - accuracy: 0.4931 - loss: 0.6932\n",
      "Epoch 3/10\n"
     ]
    },
    {
     "name": "stderr",
     "output_type": "stream",
     "text": [
      "c:\\Users\\user\\anaconda3\\Lib\\contextlib.py:158: UserWarning: Your input ran out of data; interrupting training. Make sure that your dataset or generator can generate at least `steps_per_epoch * epochs` batches. You may need to use the `.repeat()` function when building your dataset.\n",
      "  self.gen.throw(value)\n"
     ]
    },
    {
     "name": "stdout",
     "output_type": "stream",
     "text": [
      "\u001b[1m33/33\u001b[0m \u001b[32m━━━━━━━━━━━━━━━━━━━━\u001b[0m\u001b[37m\u001b[0m \u001b[1m506s\u001b[0m 15s/step - accuracy: 0.5013 - loss: 0.6931 - val_accuracy: 0.5000 - val_loss: 0.6932\n",
      "Epoch 4/10\n",
      "\u001b[1m33/33\u001b[0m \u001b[32m━━━━━━━━━━━━━━━━━━━━\u001b[0m\u001b[37m\u001b[0m \u001b[1m493s\u001b[0m 15s/step - accuracy: 0.4998 - loss: 0.6931\n",
      "Epoch 5/10\n",
      "\u001b[1m33/33\u001b[0m \u001b[32m━━━━━━━━━━━━━━━━━━━━\u001b[0m\u001b[37m\u001b[0m \u001b[1m505s\u001b[0m 15s/step - accuracy: 0.5387 - loss: 0.6934 - val_accuracy: 0.5000 - val_loss: 0.6933\n",
      "Epoch 6/10\n",
      "\u001b[1m33/33\u001b[0m \u001b[32m━━━━━━━━━━━━━━━━━━━━\u001b[0m\u001b[37m\u001b[0m \u001b[1m493s\u001b[0m 15s/step - accuracy: 0.4900 - loss: 0.6936\n",
      "Epoch 7/10\n",
      "\u001b[1m33/33\u001b[0m \u001b[32m━━━━━━━━━━━━━━━━━━━━\u001b[0m\u001b[37m\u001b[0m \u001b[1m709s\u001b[0m 22s/step - accuracy: 0.5040 - loss: 0.6934 - val_accuracy: 0.5000 - val_loss: 0.6932\n",
      "Epoch 8/10\n",
      "\u001b[1m33/33\u001b[0m \u001b[32m━━━━━━━━━━━━━━━━━━━━\u001b[0m\u001b[37m\u001b[0m \u001b[1m492s\u001b[0m 15s/step - accuracy: 0.5185 - loss: 0.6928\n",
      "Epoch 9/10\n",
      "\u001b[1m33/33\u001b[0m \u001b[32m━━━━━━━━━━━━━━━━━━━━\u001b[0m\u001b[37m\u001b[0m \u001b[1m579s\u001b[0m 18s/step - accuracy: 0.5239 - loss: 0.6927 - val_accuracy: 0.5000 - val_loss: 0.6932\n",
      "Epoch 10/10\n",
      "\u001b[1m33/33\u001b[0m \u001b[32m━━━━━━━━━━━━━━━━━━━━\u001b[0m\u001b[37m\u001b[0m \u001b[1m774s\u001b[0m 24s/step - accuracy: 0.5114 - loss: 0.6928\n"
     ]
    }
   ],
   "source": [
    "# 모델 학습 (에포크당 1027개 원본 + 1027개 변형된 데이터로 총 2054개 학습)\n",
    "# 총 에포크 10개, 배치사이즈 32개\n",
    "history = model.fit(\n",
    "    combined_generator(original_generator, augmented_generator),\n",
    "    steps_per_epoch=len(original_generator),  # 배치 크기에 맞춘 steps_per_epoch\n",
    "    validation_data=validation_generator,\n",
    "    validation_steps=len(validation_generator),\n",
    "    epochs=10,  # 총 10 에포크 학습\n",
    "    verbose=1\n",
    ")"
   ]
  },
  {
   "cell_type": "code",
   "execution_count": 14,
   "metadata": {},
   "outputs": [
    {
     "data": {
      "image/png": "[encoded data removed]",
      "text/plain": [
       "<Figure size 1200x1000 with 1 Axes>"
      ]
     },
     "metadata": {},
     "output_type": "display_data"
    }
   ],
   "source": [
    "# 학습 결과 시각화\n",
    "acc = history.history[\"accuracy\"]\n",
    "val_acc = history.history[\"val_accuracy\"]\n",
    "loss = history.history[\"loss\"]\n",
    "val_loss = history.history[\"val_loss\"]\n",
    "epochs = range(len(acc))\n",
    "num_epochs = 10\n",
    "# 에포크 범위 설정\n",
    "plt.figure(figsize=(12,10))\n",
    "epochs = range(1, num_epochs + 1)  # x축을 1부터 num_epochs까지 설정\n",
    "# 정확도 시각화\n",
    "plt.plot(epochs, acc[:num_epochs], \"r\", label=\"Training accuracy\")\n",
    "plt.plot(\n",
    "    [i for i in range(1, num_epochs + 1) if i % 2 == 1],  # x축도 홀수 에포크\n",
    "    val_acc,  # y축: 검증 정확도\n",
    "    \"b\",\n",
    "    label=\"Validation accuracy\",\n",
    "    marker='o'\n",
    ")\n",
    "# 손실 시각화\n",
    "plt.plot(epochs, loss[:num_epochs], \"r--\", label=\"Training loss\")\n",
    "# Validation loss: 홀수 에포크에서만 표시\n",
    "plt.plot(\n",
    "    [i for i in range(1, num_epochs + 1) if i % 2 == 1],  # x축도 홀수 에포크\n",
    "    val_loss,  # y축: 검증 손실\n",
    "    \"b--\",\n",
    "    label=\"Validation loss\",\n",
    "    marker='o'\n",
    ")\n",
    "# 그래프 제목 및 레이블 설정\n",
    "plt.title(\"Training and Validation Accuracy and Loss (VGGNet16)\", fontsize='15', fontweight='bold')\n",
    "plt.xlabel(\"Epochs\", fontsize='10')\n",
    "plt.ylabel(\"Accuracy / Loss\", fontsize='10')\n",
    "plt.legend()\n",
    "# x축 범위 설정\n",
    "plt.xlim(1, num_epochs)  # x축 범위를 1에서 num_epochs까지 설정\n",
    "plt.ylim(0,1)\n",
    "# 그래프 표시\n",
    "plt.show()"
   ]
  },
  {
   "cell_type": "code",
   "execution_count": 16,
   "metadata": {},
   "outputs": [],
   "source": [
    "# 모델 저장\n",
    "model.save(\"VGGNet16_수정.keras\")"
   ]
  }
 ],
 "metadata": {
  "kernelspec": {
   "display_name": "base",
   "language": "python",
   "name": "python3"
  },
  "language_info": {
   "codemirror_mode": {
    "name": "ipython",
    "version": 3
   },
   "file_extension": ".py",
   "mimetype": "text/x-python",
   "name": "python",
   "nbconvert_exporter": "python",
   "pygments_lexer": "ipython3",
   "version": "3.12.4"
  }
 },
 "nbformat": 4,
 "nbformat_minor": 2
}
